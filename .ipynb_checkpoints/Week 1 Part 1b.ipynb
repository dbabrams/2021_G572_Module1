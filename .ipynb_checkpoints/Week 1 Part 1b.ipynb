{
  "cells": [
    {
      "cell_type": "markdown",
      "metadata": {
        "id": "view-in-github",
        "colab_type": "text"
      },
      "source": [
        "<a href=\"https://colab.research.google.com/github/dbabrams/2021_G572_Module1/blob/main/.ipynb_checkpoints/Week%201%20Part%201b.ipynb\" target=\"_parent\"><img src=\"https://colab.research.google.com/assets/colab-badge.svg\" alt=\"Open In Colab\"/></a>"
      ]
    },
    {
      "cell_type": "markdown",
      "metadata": {
        "id": "flsu_eek1Sfe"
      },
      "source": [
        "# Week 1 Lecture Notes (Part 1): Jupyter Notebook Primer and Python as a Calculator\n",
        "\n",
        "<ul>\n",
        "    <li><a href='#JupyterNotebook'>I. Jupyter Notebook</a></li>\n",
        "    <li><a href='#FirstPythonCode'>II. First Python Code</a></li>\n",
        "    <li><a href='#IntFloat'>III. Integers and Floats</a></li>\n",
        "    <li><a href='#ModPackLib'>IV. Modules, Packages, and Libraries</a></li>\n",
        "    <li><a href='#Loops'>V. Loops</a></li>\n",
        "</ul>"
      ]
    },
    {
      "cell_type": "markdown",
      "metadata": {
        "id": "s_R_eTVZ1Sfg"
      },
      "source": [
        "<a id='JupyterNotebook'></a>\n",
        "# I. Jupyter Notebook\n",
        "Jupyter Notebook is an open-source web application that allows the creation and sharing of documents that contain live code, equations, visualizations and narrative text. More details at: https://jupyter.org/.\n",
        "\n",
        "Most assignments in this class will be completed using Jupyter Notebooks. We are going to leverage its powerful story-telling capabilities integrated with codes in lieu of written reports. However, for longer codes, we need more powerful troubleshooting capabilities, so will be using an integrated development environment (IDE) called Spyder later in the semester."
      ]
    },
    {
      "cell_type": "markdown",
      "metadata": {
        "id": "kEITskPs1Sfh"
      },
      "source": [
        "### Cells \n",
        "\n",
        "All content in Jupyter Notebook is written within a cell. There are two types of cells that we will use this semester:\n",
        "<ul>\n",
        "    <li> Code: Contains Python code, or another language depending on the selected kernel</li>\n",
        "    <li> Markdown: Markdown is a text-to-HTML conversion tool for web writers. Contains explanatory text</li>\n",
        "</ul>\n",
        "\n",
        "There is a third cell type, `Raw`, but we will not be using it this semester. \n"
      ]
    },
    {
      "cell_type": "markdown",
      "metadata": {
        "id": "MRwud5J41Sfi"
      },
      "source": [
        "### Markdown Cells\n",
        "\n",
        "Click on this paragraph <b>once</b>, you will see the cell outline. _This is a Markdown cell._ There are a number of tags that can be used within a Markdown cell to control formatting (italicize, bold, change font color, etc.). <b><font color='green'>Double-click in this cell to see an example of Markdown tags, then press `Ctrl+Enter` to run the cell.</font></b>\n",
        "\n",
        "More details on Markdown can be found at: https://daringfireball.net/projects/markdown/. We will discuss different formatting options as the semester progresses.\n"
      ]
    },
    {
      "cell_type": "markdown",
      "metadata": {
        "id": "qJDATsn91Sfi"
      },
      "source": [
        "### By default, all new cells added are Code cells.\n",
        "You can easily add a new cell simply by pressing \"b\". The new cell will be added <b>below</b> the currently selected cell. <b>Note that you cannot use this shortcut if you are currently editing a cell.</b> Conversely, if you want to add a cell above the currently selected cell, press \"a\"."
      ]
    },
    {
      "cell_type": "markdown",
      "metadata": {
        "id": "hs33S9y91Sfj"
      },
      "source": [
        "### Changing Cell Types\n",
        "You may always use the Jupyter menu bar to change Cell types, but you can also use shortcuts when the cell is selected:\n",
        "<ul>\n",
        "    <li>\"m\": Markdown</li>\n",
        "    <li>\"y\": Code</li>\n",
        "</ul>\n",
        "\n",
        "If you are in a Code cell, you should see \"[]\" to the left of the cell. These brackets will not be present in a Markdown cell.\n",
        "\n",
        "<b>If you are like me, you will get in a hurry at some point this semester and accidentally hit the `r` button while a cell is selected but not editable. This will convert the cell to a `raw` format, which means it probably will not work like expected.</b>\n"
      ]
    },
    {
      "cell_type": "markdown",
      "metadata": {
        "id": "wI9IqtFj1Sfj"
      },
      "source": [
        "### Markdown cells also allow for writing equations with LaTeX\n",
        "LaTeX is a typesetting code that is particularly powerful when typesetting mathematical formulas. Compare a very familiar equation without LaTeX: \n",
        "\n",
        "E = mc^2\n",
        "\n",
        "to the same equation using LateX:\n",
        "\n",
        "$E = mc^2$\n",
        "\n",
        "\n",
        "To signify that LaTeX's mathematical funcationality is being used, simply place the equation between two dollar signs (\\$equation\\$) when typing the Markdown Cell. Here are some examples of equations created with LaTeX. Double click in this cell to see the formatting commands:\n",
        "<ul>\n",
        "    <li>Subscripts: $B_c$, $B_{c0}$</li>\n",
        "    <li>Fractions: $x/y$, $\\frac{x}{y}$</li>\n",
        "    <li>Symbols: $\\Delta$, $\\pi$, $\\infty$</li>\n",
        "    <li>Exponential: $e^5$, $e^{5000}$</li>\n",
        "</ul>\n",
        "\n",
        "Much more on LaTeX math can be found at: https://artofproblemsolving.com/wiki/index.php/LaTeX:Symbols"
      ]
    },
    {
      "cell_type": "markdown",
      "metadata": {
        "id": "srvk14DA1Sfk"
      },
      "source": [
        "### Adding images in Markdown\n",
        "\n",
        "There are a number of ways to add images with Markdown. Perhaps the easiest is to link to an image already on the web. Double click on this cell to see how easy it is to add an image.\n",
        "\n",
        "![John Cleese](https://m.media-amazon.com/images/M/MV5BODYzZWU2MmItMDYzNS00OGJjLWE4NTAtYjMyZjBiNTY5OTcxXkEyXkFqcGdeQXVyNTAyNDQ2NjI@._V1_SY1000_CR0,0,1493,1000_AL_.jpg)\n",
        "\n",
        "John Cleese as Tim the Enchanter from \"Monty Python and the Holy Grail\", https://www.imdb.com/title/tt0071853/mediaviewer/rm1556617984. \n",
        "\n",
        "Fun fact, the name Python was inspired by the Monty Python comedy team (more specifically, the Flying Circus television series)."
      ]
    },
    {
      "cell_type": "markdown",
      "metadata": {
        "id": "gS6p8KTt1Sfl"
      },
      "source": [
        "<a id='FirstPythonCode'></a>\n",
        "# II. First Python code\n"
      ]
    },
    {
      "cell_type": "markdown",
      "metadata": {
        "id": "DIrsiHop1Sfl"
      },
      "source": [
        "### Code Cells\n",
        "Code cells run the computer language as determined by the Kernel selected in Jupyter. The current active kernel is in the upper-right corner of the screen. We are going to use Python 3 almost exclusively in this course, although we will do an example later in the semester where we use a different kernel. "
      ]
    },
    {
      "cell_type": "markdown",
      "metadata": {
        "id": "U8jRbEtu1Sfm"
      },
      "source": [
        "Let's start with the classic coding problem where we print the words \"Hello World!\". Run the following code, and then think about what is happening here."
      ]
    },
    {
      "cell_type": "code",
      "execution_count": 15,
      "metadata": {
        "colab": {
          "base_uri": "https://localhost:8080/"
        },
        "id": "SvgEsoOw1Sfn",
        "outputId": "01b5449b-ad29-41ae-85a7-5e45967e5221"
      },
      "outputs": [
        {
          "output_type": "stream",
          "name": "stdout",
          "text": [
            "Hello World!\n"
          ]
        }
      ],
      "source": [
        "print(\"Hello World!\")\n",
        "# this is a comment"
      ]
    },
    {
      "cell_type": "markdown",
      "metadata": {
        "id": "7EtBdCZT1Sfp"
      },
      "source": [
        "<ul>\n",
        "    <li> print() is a function that acts on the argument between the parentheses.</li>\n",
        "    <li> \"Hello World!\" is the argument (also referred to as a parameter) input into the function.</li>\n",
        "    <li> # is used to define a comment; it does not impact the Python code but is a good way to add brief thoughts regarding your Python code</li>\n",
        "</ul>"
      ]
    },
    {
      "cell_type": "markdown",
      "metadata": {
        "id": "wAoyrHln1Sfq"
      },
      "source": [
        "We briefly discussed that Python 2 and 3 are both still in use depending on applications. One of the major differences between the two is how to print a string."
      ]
    },
    {
      "cell_type": "markdown",
      "metadata": {
        "id": "qFjTJQKM1Sfq"
      },
      "source": [
        "### Variables\n",
        "Note that we could also define \"Hello World!\" as a variable."
      ]
    },
    {
      "cell_type": "code",
      "execution_count": 16,
      "metadata": {
        "colab": {
          "base_uri": "https://localhost:8080/"
        },
        "id": "TelhHy1Z1Sfr",
        "outputId": "48268df3-f71b-48da-972b-b75fa75ed085"
      },
      "outputs": [
        {
          "output_type": "stream",
          "name": "stdout",
          "text": [
            "Hello World!\n"
          ]
        }
      ],
      "source": [
        "x = \"Hello World!\"\n",
        "print(x)"
      ]
    },
    {
      "cell_type": "markdown",
      "metadata": {
        "id": "qPsv-WrI1Sfu"
      },
      "source": [
        "It is important to keep track of the variable type, which can be determined with the function *type()*."
      ]
    },
    {
      "cell_type": "code",
      "execution_count": 18,
      "metadata": {
        "colab": {
          "base_uri": "https://localhost:8080/"
        },
        "id": "Q2BJJ2uj1Sfu",
        "outputId": "f586f3b5-f0d6-4545-bf31-e11304855489"
      },
      "outputs": [
        {
          "output_type": "execute_result",
          "data": {
            "text/plain": [
              "str"
            ]
          },
          "metadata": {},
          "execution_count": 18
        }
      ],
      "source": [
        "type(x)"
      ]
    },
    {
      "cell_type": "markdown",
      "metadata": {
        "id": "jzWtqvTW1Sfw"
      },
      "source": [
        "In this case, *x* is a string. When defining a string variable, use \"string\" or 'string'."
      ]
    },
    {
      "cell_type": "code",
      "execution_count": 19,
      "metadata": {
        "colab": {
          "base_uri": "https://localhost:8080/"
        },
        "id": "Uoo1AKuw1Sfx",
        "outputId": "20cf7fa4-252d-463c-cb50-32de89f370da"
      },
      "outputs": [
        {
          "output_type": "stream",
          "name": "stdout",
          "text": [
            "Hello World!\n"
          ]
        },
        {
          "output_type": "execute_result",
          "data": {
            "text/plain": [
              "str"
            ]
          },
          "metadata": {},
          "execution_count": 19
        }
      ],
      "source": [
        "x = 'Hello World!'\n",
        "print(x)\n",
        "type(x)"
      ]
    },
    {
      "cell_type": "markdown",
      "metadata": {
        "id": "HDWsBkcK1Sfz"
      },
      "source": [
        "What if quotation marks aren't used?"
      ]
    },
    {
      "cell_type": "code",
      "execution_count": 20,
      "metadata": {
        "colab": {
          "base_uri": "https://localhost:8080/",
          "height": 130
        },
        "id": "mVTjwaMn1Sfz",
        "outputId": "39fa2513-1764-4b33-b586-c2cc7179ccfa"
      },
      "outputs": [
        {
          "output_type": "error",
          "ename": "SyntaxError",
          "evalue": "ignored",
          "traceback": [
            "\u001b[0;36m  File \u001b[0;32m\"<ipython-input-20-73e3c50428d8>\"\u001b[0;36m, line \u001b[0;32m1\u001b[0m\n\u001b[0;31m    x = Hello World!\u001b[0m\n\u001b[0m                  ^\u001b[0m\n\u001b[0;31mSyntaxError\u001b[0m\u001b[0;31m:\u001b[0m invalid syntax\n"
          ]
        }
      ],
      "source": [
        "x = Hello World!"
      ]
    },
    {
      "cell_type": "markdown",
      "metadata": {
        "id": "Jk_yfSPW1Sf1"
      },
      "source": [
        "The error that occurs is a common one, syntax error. Syntax is the set of rules that define a programming language- trying to define a string without quotation marks is against the rules of Python.\n",
        "\n",
        "Now let's try printing the number 42."
      ]
    },
    {
      "cell_type": "code",
      "execution_count": 21,
      "metadata": {
        "colab": {
          "base_uri": "https://localhost:8080/"
        },
        "id": "Dcjr84Yi1Sf1",
        "outputId": "92bc59f3-9b64-4183-b29e-a2e18e6e96fa"
      },
      "outputs": [
        {
          "output_type": "stream",
          "name": "stdout",
          "text": [
            "42\n"
          ]
        },
        {
          "output_type": "execute_result",
          "data": {
            "text/plain": [
              "int"
            ]
          },
          "metadata": {},
          "execution_count": 21
        }
      ],
      "source": [
        "x = 42\n",
        "print(x)\n",
        "type(x)"
      ]
    },
    {
      "cell_type": "markdown",
      "metadata": {
        "id": "yB030L2d1Sf3"
      },
      "source": [
        "This still works, but the type is not a string but rather an integer. No problem, until we try to print a sentence with the number 42 embedded."
      ]
    },
    {
      "cell_type": "code",
      "execution_count": 22,
      "metadata": {
        "colab": {
          "base_uri": "https://localhost:8080/",
          "height": 183
        },
        "id": "SQQoElNK1Sf4",
        "outputId": "6ae19a34-324f-4d1d-dcf6-6d4a871b32f2"
      },
      "outputs": [
        {
          "output_type": "error",
          "ename": "TypeError",
          "evalue": "ignored",
          "traceback": [
            "\u001b[0;31m---------------------------------------------------------------------------\u001b[0m",
            "\u001b[0;31mTypeError\u001b[0m                                 Traceback (most recent call last)",
            "\u001b[0;32m<ipython-input-22-17259718ba45>\u001b[0m in \u001b[0;36m<module>\u001b[0;34m()\u001b[0m\n\u001b[1;32m      1\u001b[0m \u001b[0mx\u001b[0m \u001b[0;34m=\u001b[0m \u001b[0;36m42\u001b[0m\u001b[0;34m\u001b[0m\u001b[0;34m\u001b[0m\u001b[0m\n\u001b[0;32m----> 2\u001b[0;31m \u001b[0mprint\u001b[0m\u001b[0;34m(\u001b[0m\u001b[0;34m'My favorite number is '\u001b[0m\u001b[0;34m+\u001b[0m\u001b[0mx\u001b[0m\u001b[0;34m)\u001b[0m\u001b[0;34m\u001b[0m\u001b[0;34m\u001b[0m\u001b[0m\n\u001b[0m",
            "\u001b[0;31mTypeError\u001b[0m: can only concatenate str (not \"int\") to str"
          ]
        }
      ],
      "source": [
        "x = 42\n",
        "print('My favorite number is '+x)"
      ]
    },
    {
      "cell_type": "markdown",
      "metadata": {
        "id": "lYg21hef1Sf6"
      },
      "source": [
        "It is often easy to switch variable types. The function str() does a number of things, including changing integers to strings.  "
      ]
    },
    {
      "cell_type": "code",
      "execution_count": 23,
      "metadata": {
        "colab": {
          "base_uri": "https://localhost:8080/"
        },
        "id": "RhHAFsGG1Sf6",
        "outputId": "ca12d845-fe10-4af0-8dc3-ebe7bfdab1b0"
      },
      "outputs": [
        {
          "output_type": "stream",
          "name": "stdout",
          "text": [
            "My favorite number is 42\n"
          ]
        }
      ],
      "source": [
        "# add two strings together, must convert\n",
        "x = 42\n",
        "print('My favorite number is ' +str(x))"
      ]
    },
    {
      "cell_type": "markdown",
      "metadata": {
        "id": "CwsoVUnl1Sf9"
      },
      "source": [
        "Python 3 introduced an alternative to printing statements that include both strings and integers, as shown below."
      ]
    },
    {
      "cell_type": "code",
      "execution_count": 24,
      "metadata": {
        "colab": {
          "base_uri": "https://localhost:8080/"
        },
        "id": "ps7Z-SXe1Sf_",
        "outputId": "3925a7ae-0373-4203-9bc9-2238b8990d42"
      },
      "outputs": [
        {
          "output_type": "stream",
          "name": "stdout",
          "text": [
            "My favorite number is 42\n"
          ]
        }
      ],
      "source": [
        "# can also print with different data types\n",
        "# in this case, print(string,integer)\n",
        "x = 42\n",
        "print('My favorite number is',x)"
      ]
    },
    {
      "cell_type": "markdown",
      "metadata": {
        "id": "sc9En9fy1SgB"
      },
      "source": [
        "`Print` underwent many changes between Python 2 and 3. Try changing the kernel for the following cells blocks between Python 2 and 3 to see how `print` is impacted."
      ]
    },
    {
      "cell_type": "code",
      "execution_count": 25,
      "metadata": {
        "colab": {
          "base_uri": "https://localhost:8080/",
          "height": 130
        },
        "id": "WyE--xMr1SgB",
        "outputId": "91f48688-d708-43a9-d005-4a8267416f81"
      },
      "outputs": [
        {
          "output_type": "error",
          "ename": "SyntaxError",
          "evalue": "ignored",
          "traceback": [
            "\u001b[0;36m  File \u001b[0;32m\"<ipython-input-25-1269d0be17b8>\"\u001b[0;36m, line \u001b[0;32m2\u001b[0m\n\u001b[0;31m    print \"Hello World\"\u001b[0m\n\u001b[0m                      ^\u001b[0m\n\u001b[0;31mSyntaxError\u001b[0m\u001b[0;31m:\u001b[0m Missing parentheses in call to 'print'. Did you mean print(\"Hello World\")?\n"
          ]
        }
      ],
      "source": [
        "# Python 2 had a print statement, and not just a function. The print statement was removed in Python 3.\n",
        "print \"Hello World\""
      ]
    },
    {
      "cell_type": "code",
      "execution_count": 13,
      "metadata": {
        "colab": {
          "base_uri": "https://localhost:8080/"
        },
        "id": "9rY61kPE1SgD",
        "outputId": "d9f9e4af-6fac-46b2-90e8-111386d84561"
      },
      "outputs": [
        {
          "output_type": "stream",
          "name": "stdout",
          "text": [
            "Hello World\n",
            "Hello World, Nice to Meet You\n"
          ]
        }
      ],
      "source": [
        "# The print function is available in both Python 2 and 3, and often yields the same results\n",
        "print(\"Hello World\")\n",
        "print(\"Hello World, \" + \"Nice to Meet You\")"
      ]
    },
    {
      "cell_type": "code",
      "execution_count": 14,
      "metadata": {
        "colab": {
          "base_uri": "https://localhost:8080/"
        },
        "id": "EU7Dxnqa1SgE",
        "outputId": "e8af3b95-558c-49c3-eac2-de16a334712b"
      },
      "outputs": [
        {
          "output_type": "stream",
          "name": "stdout",
          "text": [
            "Hello World, Nice to Meet You\n"
          ]
        }
      ],
      "source": [
        "# However, there are still some differences\n",
        "print(\"Hello World,\",\"Nice to Meet You\")"
      ]
    },
    {
      "cell_type": "code",
      "execution_count": 14,
      "metadata": {
        "id": "KT33N1UO1SgI"
      },
      "outputs": [],
      "source": [
        ""
      ]
    },
    {
      "cell_type": "markdown",
      "metadata": {
        "id": "bxYOHtlY1SgJ"
      },
      "source": [
        "Many applications, including ArcGIS andn QGIS, still rely on Python 2. Understanding the often subtle differences in the code can be important if using packages related to these GIS programs."
      ]
    },
    {
      "cell_type": "markdown",
      "metadata": {
        "id": "SjYdQBiI1SgK"
      },
      "source": [
        "<b>Before proceeding, make sure you have selected a Python 3 kernel. </b>"
      ]
    },
    {
      "cell_type": "markdown",
      "metadata": {
        "id": "7VjDbsX91SgK"
      },
      "source": [
        "<a id='IntFloat'></a>\n",
        "# III. Integers and Floats\n",
        "We have already seen two different variable types, integers and strings. We are going to put strings on the back-burner for a few weeks, and instead focus on integers and floats. Floats are determined by adding a decimal point."
      ]
    },
    {
      "cell_type": "code",
      "execution_count": null,
      "metadata": {
        "id": "-Br21Sen1SgL"
      },
      "outputs": [],
      "source": [
        "#integer\n",
        "x = 5\n",
        "type(x)"
      ]
    },
    {
      "cell_type": "code",
      "execution_count": null,
      "metadata": {
        "id": "O8lLwtIJ1SgP"
      },
      "outputs": [],
      "source": [
        "#float\n",
        "x = 4.\n",
        "type(x)"
      ]
    },
    {
      "cell_type": "markdown",
      "metadata": {
        "id": "VBY1DbOl1SgR"
      },
      "source": [
        "You might have noticed by now that we have defined and redefined the variable x a number of times. Python variables are dynamic, and can change multiple times throughout a code. It is prudent to keep track of the variable type, particularly because some functions require an integer or a float as an argument. See the code below to see how easy it is for a variable to change from an integer to a float."
      ]
    },
    {
      "cell_type": "code",
      "execution_count": null,
      "metadata": {
        "id": "XToFOo9u1SgR"
      },
      "outputs": [],
      "source": [
        "x = 5\n",
        "print(x,type(x))\n",
        "y = 1.\n",
        "x = x/y\n",
        "print(x,type(x))"
      ]
    },
    {
      "cell_type": "markdown",
      "metadata": {
        "id": "N3cINTDl1SgS"
      },
      "source": [
        "<a id='ModPackLib'></a>\n",
        "# IV. Modules, Packages, and Libraries\n",
        "Basic Python is actually rather limited in its mathematical capabilities (see below for a list of arithmetic operations in basic Python). "
      ]
    },
    {
      "cell_type": "markdown",
      "metadata": {
        "id": "2WENVt9W1SgT"
      },
      "source": [
        "### Basic arithmetic operations\n",
        "\n",
        "Standard python recognizes basic mathematical operations\n",
        "\n",
        "|Operator | Description | Example|\n",
        "|--------|--------|--------|\n",
        "| `+` | Addition | `11+2` |\n",
        "| `-` | Subtraction | `11-2` |\n",
        "| `*` | Multiplication | `11*2`|\n",
        "| `/` | Division | `11/2` |\n",
        "| `**` | Exponentiation/power calculation | `2**3`|\n",
        "| `%` | Modulus | `11%2` |\n",
        "| `//` | Integer Division | `11//2` |\n",
        "\n"
      ]
    },
    {
      "cell_type": "markdown",
      "metadata": {
        "id": "860VEln21SgU"
      },
      "source": [
        "What if we want to evaluate something slightly more complicated, but still within the capabilities of a cheap scientific calculator:\n",
        "$y = sin(\\pi)$"
      ]
    },
    {
      "cell_type": "code",
      "execution_count": 26,
      "metadata": {
        "colab": {
          "base_uri": "https://localhost:8080/",
          "height": 183
        },
        "id": "IdBOZyxQ1SgU",
        "outputId": "ff395e6d-f72e-4531-fc29-60b80518369b"
      },
      "outputs": [
        {
          "output_type": "error",
          "ename": "NameError",
          "evalue": "ignored",
          "traceback": [
            "\u001b[0;31m---------------------------------------------------------------------------\u001b[0m",
            "\u001b[0;31mNameError\u001b[0m                                 Traceback (most recent call last)",
            "\u001b[0;32m<ipython-input-26-7fa0fa7bade2>\u001b[0m in \u001b[0;36m<module>\u001b[0;34m()\u001b[0m\n\u001b[1;32m      1\u001b[0m \u001b[0;31m# pi() is not a function in basic Python\u001b[0m\u001b[0;34m\u001b[0m\u001b[0;34m\u001b[0m\u001b[0;34m\u001b[0m\u001b[0m\n\u001b[0;32m----> 2\u001b[0;31m \u001b[0mx\u001b[0m \u001b[0;34m=\u001b[0m \u001b[0mpi\u001b[0m\u001b[0;34m(\u001b[0m\u001b[0;34m)\u001b[0m\u001b[0;34m\u001b[0m\u001b[0;34m\u001b[0m\u001b[0m\n\u001b[0m",
            "\u001b[0;31mNameError\u001b[0m: name 'pi' is not defined"
          ]
        }
      ],
      "source": [
        "# pi() is not a function in basic Python\n",
        "x = pi()"
      ]
    },
    {
      "cell_type": "code",
      "execution_count": 27,
      "metadata": {
        "colab": {
          "base_uri": "https://localhost:8080/",
          "height": 183
        },
        "id": "7hk37Iwh1SgW",
        "outputId": "5f2c227e-aa60-45cb-94f1-9eb2626b8a3c"
      },
      "outputs": [
        {
          "output_type": "error",
          "ename": "NameError",
          "evalue": "ignored",
          "traceback": [
            "\u001b[0;31m---------------------------------------------------------------------------\u001b[0m",
            "\u001b[0;31mNameError\u001b[0m                                 Traceback (most recent call last)",
            "\u001b[0;32m<ipython-input-27-2faf583678ac>\u001b[0m in \u001b[0;36m<module>\u001b[0;34m()\u001b[0m\n\u001b[1;32m      1\u001b[0m \u001b[0;31m# neither is sin()\u001b[0m\u001b[0;34m\u001b[0m\u001b[0;34m\u001b[0m\u001b[0;34m\u001b[0m\u001b[0m\n\u001b[0;32m----> 2\u001b[0;31m \u001b[0my\u001b[0m \u001b[0;34m=\u001b[0m \u001b[0msin\u001b[0m\u001b[0;34m(\u001b[0m\u001b[0;36m3.14\u001b[0m\u001b[0;34m)\u001b[0m\u001b[0;34m\u001b[0m\u001b[0;34m\u001b[0m\u001b[0m\n\u001b[0m",
            "\u001b[0;31mNameError\u001b[0m: name 'sin' is not defined"
          ]
        }
      ],
      "source": [
        "# neither is sin()\n",
        "y = sin(3.14)"
      ]
    },
    {
      "cell_type": "markdown",
      "metadata": {
        "id": "T1IFdIdk1SgX"
      },
      "source": [
        "However, Python has numerous packages, libraries, and modules to supplement the basic language. For now, there is no need to concern yourself with the differences between the three- they are all brought into Python the same way. There is a large Python community that develops and maintains modules, packages, and libraries.\n",
        "\n",
        "Let's import the math module. For more on the math module, see: https://docs.python.org/2/library/math.html"
      ]
    },
    {
      "cell_type": "code",
      "execution_count": 28,
      "metadata": {
        "id": "zuEA38pY1SgY"
      },
      "outputs": [],
      "source": [
        "import math"
      ]
    },
    {
      "cell_type": "markdown",
      "metadata": {
        "id": "0gQ6UA-H1SgZ"
      },
      "source": [
        "To use the math module (or any module, library, package), you need to type `math.function()` or `math.constant`. Since pi is a constant, we type `math.pi` "
      ]
    },
    {
      "cell_type": "code",
      "execution_count": 29,
      "metadata": {
        "colab": {
          "base_uri": "https://localhost:8080/"
        },
        "id": "1eN8YdK71Sga",
        "outputId": "1e07d443-30bc-4af4-f3e0-6f2c4adc01cb"
      },
      "outputs": [
        {
          "output_type": "stream",
          "name": "stdout",
          "text": [
            "3.141592653589793\n"
          ]
        }
      ],
      "source": [
        "x = math.pi\n",
        "print(x)"
      ]
    },
    {
      "cell_type": "markdown",
      "metadata": {
        "id": "MWlnrfvc1Sgb"
      },
      "source": [
        "To calculate sine, we now need to use y = math.sin()"
      ]
    },
    {
      "cell_type": "code",
      "execution_count": 30,
      "metadata": {
        "colab": {
          "base_uri": "https://localhost:8080/"
        },
        "id": "yT7tVI7u1Sgc",
        "outputId": "7a61aa6c-84d2-4fa5-9fe4-1ed3826c164d"
      },
      "outputs": [
        {
          "output_type": "stream",
          "name": "stdout",
          "text": [
            "1.2246467991473532e-16\n"
          ]
        }
      ],
      "source": [
        "import math\n",
        "x = math.pi\n",
        "y = math.sin(x)\n",
        "print(y)"
      ]
    },
    {
      "cell_type": "markdown",
      "metadata": {
        "id": "r0I-pqZ61Sgf"
      },
      "source": [
        "<a id='Loops'></a>\n",
        "# V. Loops\n",
        "Loops iterate over a sequence of numbers, either a specified number of times or when a specific condition is met."
      ]
    },
    {
      "cell_type": "markdown",
      "metadata": {
        "id": "AyxGDSEk1Sgg"
      },
      "source": [
        "### For loops\n",
        "For-loops run through a range of values. The syntax for a for-loop is shown below.\n",
        "\n",
        "`for` defines that this is a for for-loop.\n",
        "\n",
        "`x` is the iterator in the for-loop.\n",
        "\n",
        "`range()` is a function that controls the number of iterations. The argument is the `stop` value. \n",
        "\n",
        "Think about what the following Code Cell will generate when run. Did it do what you expected?"
      ]
    },
    {
      "cell_type": "code",
      "execution_count": 31,
      "metadata": {
        "colab": {
          "base_uri": "https://localhost:8080/"
        },
        "id": "tnyZhbf11Sgg",
        "outputId": "2f091522-85ba-47d7-9f37-4f1e6e978921",
        "scrolled": true
      },
      "outputs": [
        {
          "output_type": "stream",
          "name": "stdout",
          "text": [
            "1\n",
            "2\n",
            "3\n",
            "4\n"
          ]
        }
      ],
      "source": [
        "for x in range(1,5):\n",
        "    print(x)"
      ]
    },
    {
      "cell_type": "markdown",
      "metadata": {
        "id": "pL0dKGv81Sgi"
      },
      "source": [
        "\n",
        "Wait, what? When we print the iterator, it starts at 0 and ends at 4. Many new and experienced programmers probably expected this to start at 1 and end at 5, particularly if your prior programming experience is in Matlab. However, Python is 0-indexed, which shifts everything one to the left.\n",
        "\n",
        "Think of it this way:\n",
        "<ul>\n",
        "    <li>0 $\\Rightarrow$ 0-1</li>\n",
        "    <li>1 $\\Rightarrow$ 1-2</li>\n",
        "    <li>2 $\\Rightarrow$ 2-3</li>\n",
        "    <li>3 $\\Rightarrow$ 3-4</li>\n",
        "    <li>4 $\\Rightarrow$ 4-5</li>\n",
        "</ul>\n",
        "\n",
        "As a result, `range(5)` looks at $0 \\Rightarrow 5$. Hence, when interating through the indices, it goes 0, 1, 2, 3, 4, <b>NOT</b> 1, 2, 3, 4, 5.\n",
        "\n",
        "`range()` has additional, optional arguments. When two arguments are used, the first represents `start` and the last represents `stop`."
      ]
    },
    {
      "cell_type": "code",
      "execution_count": 32,
      "metadata": {
        "colab": {
          "base_uri": "https://localhost:8080/"
        },
        "id": "LJSPKfW_1Sgi",
        "outputId": "ac29f8bc-ec44-404a-fb81-79ad5d6744fa"
      },
      "outputs": [
        {
          "output_type": "stream",
          "name": "stdout",
          "text": [
            "1\n",
            "2\n",
            "3\n",
            "4\n"
          ]
        }
      ],
      "source": [
        "for x in range(1,5):\n",
        "    print(x)"
      ]
    },
    {
      "cell_type": "markdown",
      "metadata": {
        "id": "FPF-PSW51Sgk"
      },
      "source": [
        "`range()` has a third optional argument that represents the size of the increment (which defaults to 1 when not specified). It is the third argument when present."
      ]
    },
    {
      "cell_type": "code",
      "execution_count": 33,
      "metadata": {
        "colab": {
          "base_uri": "https://localhost:8080/"
        },
        "id": "wKqx8emb1Sgk",
        "outputId": "0ffbb0a9-e254-44c1-f5aa-3324b02ee26c",
        "scrolled": true
      },
      "outputs": [
        {
          "output_type": "stream",
          "name": "stdout",
          "text": [
            "1\n",
            "3\n"
          ]
        }
      ],
      "source": [
        "for x in range(1,5,2):\n",
        "    print(x)"
      ]
    },
    {
      "cell_type": "markdown",
      "metadata": {
        "id": "QOjpeiYk1Sgm"
      },
      "source": [
        "If we want to print all of the odd numbers from 1 to 9, we can write the following for-loop. Note that due to Python indexing, we have to go over the upper value we want."
      ]
    },
    {
      "cell_type": "code",
      "execution_count": 34,
      "metadata": {
        "colab": {
          "base_uri": "https://localhost:8080/"
        },
        "id": "dhHKMi7_1Sgm",
        "outputId": "f2aa3164-bc4b-4127-a85d-35a3d32b049c"
      },
      "outputs": [
        {
          "output_type": "stream",
          "name": "stdout",
          "text": [
            "1\n",
            "3\n",
            "5\n",
            "7\n",
            "9\n"
          ]
        }
      ],
      "source": [
        "for x in range(1,10,2):\n",
        "    print(x)"
      ]
    },
    {
      "cell_type": "markdown",
      "metadata": {
        "id": "HVmHXsx31Sgo"
      },
      "source": [
        "Note that this upper limit must be an integer. Note the \"TypeError\" in the following code."
      ]
    },
    {
      "cell_type": "code",
      "execution_count": 35,
      "metadata": {
        "colab": {
          "base_uri": "https://localhost:8080/",
          "height": 200
        },
        "id": "mDjfK0Pg1Sgo",
        "outputId": "2a2ed449-1b83-48a8-e7b8-19dc308236a2"
      },
      "outputs": [
        {
          "output_type": "error",
          "ename": "TypeError",
          "evalue": "ignored",
          "traceback": [
            "\u001b[0;31m---------------------------------------------------------------------------\u001b[0m",
            "\u001b[0;31mTypeError\u001b[0m                                 Traceback (most recent call last)",
            "\u001b[0;32m<ipython-input-35-a71a471ba875>\u001b[0m in \u001b[0;36m<module>\u001b[0;34m()\u001b[0m\n\u001b[1;32m      1\u001b[0m \u001b[0;31m# This code fails\u001b[0m\u001b[0;34m\u001b[0m\u001b[0;34m\u001b[0m\u001b[0;34m\u001b[0m\u001b[0m\n\u001b[0;32m----> 2\u001b[0;31m \u001b[0;32mfor\u001b[0m \u001b[0mx\u001b[0m \u001b[0;32min\u001b[0m \u001b[0mrange\u001b[0m\u001b[0;34m(\u001b[0m\u001b[0;36m1\u001b[0m\u001b[0;34m,\u001b[0m\u001b[0;36m9.1\u001b[0m\u001b[0;34m,\u001b[0m\u001b[0;36m2\u001b[0m\u001b[0;34m)\u001b[0m\u001b[0;34m:\u001b[0m\u001b[0;34m\u001b[0m\u001b[0;34m\u001b[0m\u001b[0m\n\u001b[0m\u001b[1;32m      3\u001b[0m     \u001b[0mprint\u001b[0m\u001b[0;34m(\u001b[0m\u001b[0mx\u001b[0m\u001b[0;34m)\u001b[0m\u001b[0;34m\u001b[0m\u001b[0;34m\u001b[0m\u001b[0m\n",
            "\u001b[0;31mTypeError\u001b[0m: 'float' object cannot be interpreted as an integer"
          ]
        }
      ],
      "source": [
        "# This code fails\n",
        "for x in range(1,9.1,2):\n",
        "    print(x)"
      ]
    },
    {
      "cell_type": "markdown",
      "metadata": {
        "id": "YmTWgiMw1Sgq"
      },
      "source": [
        "Now let's perform an arithmetic operation within the loop."
      ]
    },
    {
      "cell_type": "code",
      "execution_count": 36,
      "metadata": {
        "colab": {
          "base_uri": "https://localhost:8080/"
        },
        "id": "HVib53dy1Sgr",
        "outputId": "e8811971-b37c-4b7c-d386-7505735df94d"
      },
      "outputs": [
        {
          "output_type": "stream",
          "name": "stdout",
          "text": [
            "0\n",
            "1\n",
            "4\n",
            "9\n",
            "16\n"
          ]
        }
      ],
      "source": [
        "for x in range(5):\n",
        "    y = x**2\n",
        "    print(y)"
      ]
    },
    {
      "cell_type": "markdown",
      "metadata": {
        "id": "vfiInRRa1Sgs"
      },
      "source": [
        "You may have noticed that each loop includes two important features. The first line of the loop ends with a colon. Each of the subsequent lines are shifted to the right by a single tab. These tabs are not only white-space for purposes of display. The indentation is critical in the Python code, and must be consistently used throughout the code. Note the errors in the following loops:"
      ]
    },
    {
      "cell_type": "code",
      "execution_count": 37,
      "metadata": {
        "colab": {
          "base_uri": "https://localhost:8080/"
        },
        "id": "3Ogv13-K1Sgt",
        "outputId": "d675bd5f-a40e-489a-df16-0b551310399d"
      },
      "outputs": [
        {
          "output_type": "stream",
          "name": "stdout",
          "text": [
            "0\n",
            "1\n",
            "4\n",
            "9\n",
            "16\n"
          ]
        }
      ],
      "source": [
        "# invalid syntax when colon is omitted\n",
        "for x in range(5):\n",
        "    y = x**2\n",
        "    print(y)"
      ]
    },
    {
      "cell_type": "code",
      "execution_count": 38,
      "metadata": {
        "colab": {
          "base_uri": "https://localhost:8080/"
        },
        "id": "O7RWfxMg1Sgu",
        "outputId": "956d7ab2-155b-40df-958b-e6c4af739177"
      },
      "outputs": [
        {
          "output_type": "stream",
          "name": "stdout",
          "text": [
            "0\n",
            "1\n",
            "4\n",
            "9\n",
            "16\n"
          ]
        }
      ],
      "source": [
        "#Indentation error when spacing is not consistent\n",
        "for x in range(5):\n",
        "    y = x**2\n",
        "    print(y)"
      ]
    },
    {
      "cell_type": "markdown",
      "metadata": {
        "id": "YpbN6Mua1Sgw"
      },
      "source": [
        "### While loops\n",
        "While defines another type of loop that stops at some condition. The format is similar to a for-loop, but action has to be taken on the iterator within the loop. "
      ]
    },
    {
      "cell_type": "code",
      "execution_count": 39,
      "metadata": {
        "colab": {
          "base_uri": "https://localhost:8080/"
        },
        "id": "5WJuFOmp1Sgx",
        "outputId": "e486846b-0136-4ea6-f387-32afe2fde2b3"
      },
      "outputs": [
        {
          "output_type": "stream",
          "name": "stdout",
          "text": [
            "5\n",
            "6\n",
            "7\n",
            "8\n",
            "9\n",
            "10\n"
          ]
        }
      ],
      "source": [
        "x = 5\n",
        "while x<=10:\n",
        "    print(x)\n",
        "    x = x+1"
      ]
    },
    {
      "cell_type": "markdown",
      "metadata": {
        "id": "-TsVecCe1Sgz"
      },
      "source": [
        "It is easy to see that if x is not modified within the loop, then x will always be less than 10. This is referred to as <b><font color = 'red'>the dreaded \"infinite loop\"</font></b>. If you really want to try it, go right ahead, but be aware of where the \"stop button\" is. Also be sure that you saved your Jupyter Notebook, because sometimes completely closing out of the Jupyter Notebook is the only way to escape the infinite loop."
      ]
    }
  ],
  "metadata": {
    "colab": {
      "name": "Week_1_Python_Lecture.ipynb",
      "provenance": [],
      "include_colab_link": true
    },
    "kernelspec": {
      "display_name": "Python 3",
      "language": "python",
      "name": "python3"
    },
    "language_info": {
      "codemirror_mode": {
        "name": "ipython",
        "version": 3
      },
      "file_extension": ".py",
      "mimetype": "text/x-python",
      "name": "python",
      "nbconvert_exporter": "python",
      "pygments_lexer": "ipython3",
      "version": "3.8.5"
    }
  },
  "nbformat": 4,
  "nbformat_minor": 0
}