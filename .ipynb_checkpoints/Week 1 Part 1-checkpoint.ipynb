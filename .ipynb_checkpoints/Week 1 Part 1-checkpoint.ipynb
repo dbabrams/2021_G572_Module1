{
 "cells": [
  {
   "cell_type": "markdown",
   "metadata": {
    "colab_type": "text",
    "id": "flsu_eek1Sfe"
   },
   "source": [
    "# Week 1 Lecture Notes (Part 1): Jupyter Notebook Primer and Python as a Calculator\n",
    "\n",
    "<ul>\n",
    "    <li><a href='#JupyterNotebook'>I. Jupyter Notebook</a></li>\n",
    "    <li><a href='#FirstPythonCode'>II. First Python Code</a></li>\n",
    "    <li><a href='#IntFloat'>III. Integers and Floats</a></li>\n",
    "    <li><a href='#ModPackLib'>IV. Modules, Packages, and Libraries</a></li>\n",
    "    <li><a href='#Loops'>V. Loops</a></li>\n",
    "</ul>"
   ]
  },
  {
   "cell_type": "markdown",
   "metadata": {
    "colab_type": "text",
    "id": "s_R_eTVZ1Sfg"
   },
   "source": [
    "<a id='JupyterNotebook'></a>\n",
    "# I. Jupyter Notebook\n",
    "Jupyter Notebook is an open-source web application that allows the creation and sharing of documents that contain live code, equations, visualizations and narrative text. More details at: https://jupyter.org/.\n",
    "\n",
    "Most assignments in this class will be completed using Jupyter Notebooks. We are going to leverage its powerful story-telling capabilities integrated with codes in lieu of written reports. However, for longer codes, we need more powerful troubleshooting capabilities, so will be using an integrated development environment (IDE) called Spyder later in the semester."
   ]
  },
  {
   "cell_type": "code",
   "execution_count": null,
   "metadata": {
    "colab_type": "text",
    "id": "kEITskPs1Sfh"
   },
   "outputs": [],
   "source": [
    "### Cells \n",
    "\n",
    "All content in Jupyter Notebook is written within a cell. There are two types of cells that we will use this semester:\n",
    "<ul>\n",
    "    <li> Code: Contains Python code, or another language depending on the selected kernel</li>\n",
    "    <li> Markdown: Markdown is a text-to-HTML conversion tool for web writers. Contains explanatory text</li>\n",
    "</ul>\n",
    "\n",
    "There is a third cell type, `Raw`, but we will not be using it this semester. \n"
   ]
  },
  {
   "cell_type": "markdown",
   "metadata": {
    "colab_type": "text",
    "id": "MRwud5J41Sfi"
   },
   "source": [
    "### Markdown Cells\n",
    "\n",
    "Click on this paragraph <b>once</b>, you will see the cell outline. _This is a Markdown cell._ There are a number of tags that can be used within a Markdown cell to control formatting (italicize, bold, change font color, etc.). <b><font color='green'>Double-click in this cell to see an example of Markdown tags, then press `Ctrl+Enter` to run the cell.</font></b>\n",
    "\n",
    "More details on Markdown can be found at: https://daringfireball.net/projects/markdown/. We will discuss different formatting options as the semester progresses.\n"
   ]
  },
  {
   "cell_type": "markdown",
   "metadata": {
    "colab_type": "text",
    "id": "qJDATsn91Sfi"
   },
   "source": [
    "### By default, all new cells added are Code cells.\n",
    "You can easily add a new cell simply by pressing \"b\". The new cell will be added <b>below</b> the currently selected cell. <b>Note that you cannot use this shortcut if you are currently editing a cell.</b> Conversely, if you want to add a cell above the currently selected cell, press \"a\"."
   ]
  },
  {
   "cell_type": "markdown",
   "metadata": {
    "colab_type": "text",
    "id": "hs33S9y91Sfj"
   },
   "source": [
    "### Changing Cell Types\n",
    "You may always use the Jupyter menu bar to change Cell types, but you can also use shortcuts when the cell is selected:\n",
    "<ul>\n",
    "    <li>\"m\": Markdown</li>\n",
    "    <li>\"y\": Code</li>\n",
    "</ul>\n",
    "\n",
    "If you are in a Code cell, you should see \"[]\" to the left of the cell. These brackets will not be present in a Markdown cell.\n",
    "\n",
    "<b>If you are like me, you will get in a hurry at some point this semester and accidentally hit the `r` button while a cell is selected but not editable. This will convert the cell to a `raw` format, which means it probably will not work like expected.</b>\n"
   ]
  },
  {
   "cell_type": "markdown",
   "metadata": {
    "colab_type": "text",
    "id": "wI9IqtFj1Sfj"
   },
   "source": [
    "### Markdown cells also allow for writing equations with LaTeX\n",
    "LaTeX is a typesetting code that is particularly powerful when typesetting mathematical formulas. Compare a very familiar equation without LaTeX: \n",
    "\n",
    "E = mc^2\n",
    "\n",
    "to the same equation using LateX:\n",
    "\n",
    "$E = mc^2$\n",
    "\n",
    "\n",
    "To signify that LaTeX's mathematical funcationality is being used, simply place the equation between two dollar signs (\\$equation\\$) when typing the Markdown Cell. Here are some examples of equations created with LaTeX. Double click in this cell to see the formatting commands:\n",
    "<ul>\n",
    "    <li>Subscripts: $B_c$, $B_{c0}$</li>\n",
    "    <li>Fractions: $x/y$, $\\frac{x}{y}$</li>\n",
    "    <li>Symbols: $\\Delta$, $\\pi$, $\\infty$</li>\n",
    "    <li>Exponential: $e^5$, $e^{5000}$</li>\n",
    "</ul>\n",
    "\n",
    "Much more on LaTeX math can be found at: https://artofproblemsolving.com/wiki/index.php/LaTeX:Symbols"
   ]
  },
  {
   "cell_type": "markdown",
   "metadata": {
    "colab_type": "text",
    "id": "srvk14DA1Sfk"
   },
   "source": [
    "### Adding images in Markdown\n",
    "\n",
    "There are a number of ways to add images with Markdown. Perhaps the easiest is to link to an image already on the web. Double click on this cell to see how easy it is to add an image.\n",
    "\n",
    "![John Cleese](https://m.media-amazon.com/images/M/MV5BODYzZWU2MmItMDYzNS00OGJjLWE4NTAtYjMyZjBiNTY5OTcxXkEyXkFqcGdeQXVyNTAyNDQ2NjI@._V1_SY1000_CR0,0,1493,1000_AL_.jpg)\n",
    "\n",
    "John Cleese as Tim the Enchanter from \"Monty Python and the Holy Grail\", https://www.imdb.com/title/tt0071853/mediaviewer/rm1556617984. \n",
    "\n",
    "Fun fact, the name Python was inspired by the Monty Python comedy team (more specifically, the Flying Circus television series)."
   ]
  },
  {
   "cell_type": "markdown",
   "metadata": {
    "colab_type": "text",
    "id": "gS6p8KTt1Sfl"
   },
   "source": [
    "<a id='FirstPythonCode'></a>\n",
    "# II. First Python code\n"
   ]
  },
  {
   "cell_type": "markdown",
   "metadata": {
    "colab_type": "text",
    "id": "DIrsiHop1Sfl"
   },
   "source": [
    "### Code Cells\n",
    "Code cells run the computer language as determined by the Kernel selected in Jupyter. The current active kernel is in the upper-right corner of the screen. We are going to use Python 3 almost exclusively in this course, although we will do an example later in the semester where we use a different kernel. "
   ]
  },
  {
   "cell_type": "markdown",
   "metadata": {
    "colab_type": "text",
    "id": "U8jRbEtu1Sfm"
   },
   "source": [
    "Let's start with the classic coding problem where we print the words \"Hello World!\". Run the following code, and then think about what is happening here."
   ]
  },
  {
   "cell_type": "code",
   "execution_count": 0,
   "metadata": {
    "colab": {},
    "colab_type": "code",
    "id": "SvgEsoOw1Sfn"
   },
   "outputs": [],
   "source": [
    "print(\"Hello World!\")\n",
    "# this is a comment"
   ]
  },
  {
   "cell_type": "markdown",
   "metadata": {
    "colab_type": "text",
    "id": "7EtBdCZT1Sfp"
   },
   "source": [
    "<ul>\n",
    "    <li> print() is a function that acts on the argument between the parentheses.</li>\n",
    "    <li> \"Hello World!\" is the argument (also referred to as a parameter) input into the function.</li>\n",
    "    <li> # is used to define a comment; it does not impact the Python code but is a good way to add brief thoughts regarding your Python code</li>\n",
    "</ul>"
   ]
  },
  {
   "cell_type": "markdown",
   "metadata": {
    "colab_type": "text",
    "id": "wAoyrHln1Sfq"
   },
   "source": [
    "We briefly discussed that Python 2 and 3 are both still in use depending on applications. One of the major differences between the two is how to print a string."
   ]
  },
  {
   "cell_type": "markdown",
   "metadata": {
    "colab_type": "text",
    "id": "qFjTJQKM1Sfq"
   },
   "source": [
    "### Variables\n",
    "Note that we could also define \"Hello World!\" as a variable."
   ]
  },
  {
   "cell_type": "code",
   "execution_count": 0,
   "metadata": {
    "colab": {},
    "colab_type": "code",
    "id": "TelhHy1Z1Sfr"
   },
   "outputs": [],
   "source": [
    "x = \"Hello World!\"\n",
    "print(x)"
   ]
  },
  {
   "cell_type": "markdown",
   "metadata": {
    "colab_type": "text",
    "id": "qPsv-WrI1Sfu"
   },
   "source": [
    "It is important to keep track of the variable type, which can be determined with the function *type()*."
   ]
  },
  {
   "cell_type": "code",
   "execution_count": 0,
   "metadata": {
    "colab": {},
    "colab_type": "code",
    "id": "Q2BJJ2uj1Sfu"
   },
   "outputs": [],
   "source": [
    "type(x)"
   ]
  },
  {
   "cell_type": "markdown",
   "metadata": {
    "colab_type": "text",
    "id": "jzWtqvTW1Sfw"
   },
   "source": [
    "In this case, *x* is a string. When defining a string variable, use \"string\" or 'string'."
   ]
  },
  {
   "cell_type": "code",
   "execution_count": 0,
   "metadata": {
    "colab": {},
    "colab_type": "code",
    "id": "Uoo1AKuw1Sfx"
   },
   "outputs": [],
   "source": [
    "x = 'Hello World!'\n",
    "print(x)\n",
    "type(x)"
   ]
  },
  {
   "cell_type": "markdown",
   "metadata": {
    "colab_type": "text",
    "id": "HDWsBkcK1Sfz"
   },
   "source": [
    "What if quotation marks aren't used?"
   ]
  },
  {
   "cell_type": "code",
   "execution_count": 0,
   "metadata": {
    "colab": {},
    "colab_type": "code",
    "id": "mVTjwaMn1Sfz"
   },
   "outputs": [],
   "source": [
    "x = Hello World!"
   ]
  },
  {
   "cell_type": "markdown",
   "metadata": {
    "colab_type": "text",
    "id": "Jk_yfSPW1Sf1"
   },
   "source": [
    "The error that occurs is a common one, syntax error. Syntax is the set of rules that define a programming language- trying to define a string without quotation marks is against the rules of Python.\n",
    "\n",
    "Now let's try printing the number 42."
   ]
  },
  {
   "cell_type": "code",
   "execution_count": 0,
   "metadata": {
    "colab": {},
    "colab_type": "code",
    "id": "Dcjr84Yi1Sf1"
   },
   "outputs": [],
   "source": [
    "x = 42\n",
    "print(x)\n",
    "type(x)"
   ]
  },
  {
   "cell_type": "markdown",
   "metadata": {
    "colab_type": "text",
    "id": "yB030L2d1Sf3"
   },
   "source": [
    "This still works, but the type is not a string but rather an integer. No problem, until we try to print a sentence with the number 42 embedded."
   ]
  },
  {
   "cell_type": "code",
   "execution_count": 0,
   "metadata": {
    "colab": {},
    "colab_type": "code",
    "id": "SQQoElNK1Sf4"
   },
   "outputs": [],
   "source": [
    "x = 42\n",
    "print('My favorite number is '+x)"
   ]
  },
  {
   "cell_type": "markdown",
   "metadata": {
    "colab_type": "text",
    "id": "lYg21hef1Sf6"
   },
   "source": [
    "It is often easy to switch variable types. The function str() does a number of things, including changing integers to strings.  "
   ]
  },
  {
   "cell_type": "code",
   "execution_count": 0,
   "metadata": {
    "colab": {},
    "colab_type": "code",
    "id": "RhHAFsGG1Sf6"
   },
   "outputs": [],
   "source": [
    "# add two strings together, must convert\n",
    "x = 42\n",
    "print('My favorite number is ' +str(x))"
   ]
  },
  {
   "cell_type": "markdown",
   "metadata": {
    "colab_type": "text",
    "id": "CwsoVUnl1Sf9"
   },
   "source": [
    "Python 3 introduced an alternative to printing statements that include both strings and integers, as shown below."
   ]
  },
  {
   "cell_type": "code",
   "execution_count": 0,
   "metadata": {
    "colab": {},
    "colab_type": "code",
    "id": "ps7Z-SXe1Sf_"
   },
   "outputs": [],
   "source": [
    "# can also print with different data types\n",
    "# in this case, print(string,integer)\n",
    "x = 42\n",
    "print('My favorite number is',x)"
   ]
  },
  {
   "cell_type": "markdown",
   "metadata": {
    "colab_type": "text",
    "id": "sc9En9fy1SgB"
   },
   "source": [
    "`Print` underwent many changes between Python 2 and 3. Try changing the kernel for the following cells blocks between Python 2 and 3 to see how `print` is impacted."
   ]
  },
  {
   "cell_type": "code",
   "execution_count": 0,
   "metadata": {
    "colab": {},
    "colab_type": "code",
    "id": "WyE--xMr1SgB"
   },
   "outputs": [],
   "source": [
    "# Python 2 had a print statement, and not just a function. The print statement was removed in Python 3.\n",
    "print \"Hello World\""
   ]
  },
  {
   "cell_type": "code",
   "execution_count": 0,
   "metadata": {
    "colab": {},
    "colab_type": "code",
    "id": "9rY61kPE1SgD"
   },
   "outputs": [],
   "source": [
    "# The print function is available in both Python 2 and 3, and often yields the same results\n",
    "print(\"Hello World\")\n",
    "print(\"Hello World, \" + \"Nice to Meet You\")"
   ]
  },
  {
   "cell_type": "code",
   "execution_count": 0,
   "metadata": {
    "colab": {},
    "colab_type": "code",
    "id": "EU7Dxnqa1SgE"
   },
   "outputs": [],
   "source": [
    "# However, there are still some differences\n",
    "print(\"Hello World,\",\"Nice to Meet You\")"
   ]
  },
  {
   "cell_type": "code",
   "execution_count": 0,
   "metadata": {
    "colab": {},
    "colab_type": "code",
    "id": "KT33N1UO1SgI"
   },
   "outputs": [],
   "source": []
  },
  {
   "cell_type": "markdown",
   "metadata": {
    "colab_type": "text",
    "id": "bxYOHtlY1SgJ"
   },
   "source": [
    "Many applications, including ArcGIS andn QGIS, still rely on Python 2. Understanding the often subtle differences in the code can be important if using packages related to these GIS programs."
   ]
  },
  {
   "cell_type": "markdown",
   "metadata": {
    "colab_type": "text",
    "id": "SjYdQBiI1SgK"
   },
   "source": [
    "<b>Before proceeding, make sure you have selected a Python 3 kernel. </b>"
   ]
  },
  {
   "cell_type": "markdown",
   "metadata": {
    "colab_type": "text",
    "id": "7VjDbsX91SgK"
   },
   "source": [
    "<a id='IntFloat'></a>\n",
    "# III. Integers and Floats\n",
    "We have already seen two different variable types, integers and strings. We are going to put strings on the back-burner for a few weeks, and instead focus on integers and floats. Floats are determined by adding a decimal point."
   ]
  },
  {
   "cell_type": "code",
   "execution_count": 0,
   "metadata": {
    "colab": {},
    "colab_type": "code",
    "id": "-Br21Sen1SgL"
   },
   "outputs": [],
   "source": [
    "#integer\n",
    "x = 5\n",
    "type(x)"
   ]
  },
  {
   "cell_type": "code",
   "execution_count": 0,
   "metadata": {
    "colab": {},
    "colab_type": "code",
    "id": "O8lLwtIJ1SgP"
   },
   "outputs": [],
   "source": [
    "#float\n",
    "x = 4.\n",
    "type(x)"
   ]
  },
  {
   "cell_type": "markdown",
   "metadata": {
    "colab_type": "text",
    "id": "VBY1DbOl1SgR"
   },
   "source": [
    "You might have noticed by now that we have defined and redefined the variable x a number of times. Python variables are dynamic, and can change multiple times throughout a code. It is prudent to keep track of the variable type, particularly because some functions require an integer or a float as an argument. See the code below to see how easy it is for a variable to change from an integer to a float."
   ]
  },
  {
   "cell_type": "code",
   "execution_count": 0,
   "metadata": {
    "colab": {},
    "colab_type": "code",
    "id": "XToFOo9u1SgR"
   },
   "outputs": [],
   "source": [
    "x = 5\n",
    "print(x,type(x))\n",
    "y = 1.\n",
    "x = x/y\n",
    "print(x,type(x))"
   ]
  },
  {
   "cell_type": "markdown",
   "metadata": {
    "colab_type": "text",
    "id": "N3cINTDl1SgS"
   },
   "source": [
    "<a id='ModPackLib'></a>\n",
    "# IV. Modules, Packages, and Libraries\n",
    "Basic Python is actually rather limited in its mathematical capabilities (see below for a list of arithmetic operations in basic Python). "
   ]
  },
  {
   "cell_type": "markdown",
   "metadata": {
    "colab_type": "text",
    "id": "2WENVt9W1SgT"
   },
   "source": [
    "### Basic arithmetic operations\n",
    "\n",
    "Standard python recognizes basic mathematical operations\n",
    "\n",
    "|Operator | Description | Example|\n",
    "|--------|--------|--------|\n",
    "| `+` | Addition | `11+2` |\n",
    "| `-` | Subtraction | `11-2` |\n",
    "| `*` | Multiplication | `11*2`|\n",
    "| `/` | Division | `11/2` |\n",
    "| `**` | Exponentiation/power calculation | `2**3`|\n",
    "| `%` | Modulus | `11%2` |\n",
    "| `//` | Integer Division | `11//2` |\n",
    "\n"
   ]
  },
  {
   "cell_type": "markdown",
   "metadata": {
    "colab_type": "text",
    "id": "860VEln21SgU"
   },
   "source": [
    "What if we want to evaluate something slightly more complicated, but still within the capabilities of a cheap scientific calculator:\n",
    "$y = sin(\\pi)$"
   ]
  },
  {
   "cell_type": "code",
   "execution_count": 0,
   "metadata": {
    "colab": {},
    "colab_type": "code",
    "id": "IdBOZyxQ1SgU"
   },
   "outputs": [],
   "source": [
    "# pi() is not a function in basic Python\n",
    "x = pi()"
   ]
  },
  {
   "cell_type": "code",
   "execution_count": 0,
   "metadata": {
    "colab": {},
    "colab_type": "code",
    "id": "7hk37Iwh1SgW"
   },
   "outputs": [],
   "source": [
    "# neither is sin()\n",
    "y = sin(3.14)"
   ]
  },
  {
   "cell_type": "markdown",
   "metadata": {
    "colab_type": "text",
    "id": "T1IFdIdk1SgX"
   },
   "source": [
    "However, Python has numerous packages, libraries, and modules to supplement the basic language. For now, there is no need to concern yourself with the differences between the three- they are all brought into Python the same way. There is a large Python community that develops and maintains modules, packages, and libraries.\n",
    "\n",
    "Let's import the math module. For more on the math module, see: https://docs.python.org/2/library/math.html"
   ]
  },
  {
   "cell_type": "code",
   "execution_count": 0,
   "metadata": {
    "colab": {},
    "colab_type": "code",
    "id": "zuEA38pY1SgY"
   },
   "outputs": [],
   "source": [
    "import math"
   ]
  },
  {
   "cell_type": "markdown",
   "metadata": {
    "colab_type": "text",
    "id": "0gQ6UA-H1SgZ"
   },
   "source": [
    "To use the math module (or any module, library, package), you need to type `math.function()` or `math.constant`. Since pi is a constant, we type `math.pi` "
   ]
  },
  {
   "cell_type": "code",
   "execution_count": 0,
   "metadata": {
    "colab": {},
    "colab_type": "code",
    "id": "1eN8YdK71Sga"
   },
   "outputs": [],
   "source": [
    "x = math.pi\n",
    "print(x)"
   ]
  },
  {
   "cell_type": "markdown",
   "metadata": {
    "colab_type": "text",
    "id": "MWlnrfvc1Sgb"
   },
   "source": [
    "To calculate sine, we now need to use y = math.sin()"
   ]
  },
  {
   "cell_type": "code",
   "execution_count": 0,
   "metadata": {
    "colab": {},
    "colab_type": "code",
    "id": "yT7tVI7u1Sgc",
    "outputId": "d80d46f7-5392-464e-9413-1272f63ceeb9"
   },
   "outputs": [
    {
     "name": "stdout",
     "output_type": "stream",
     "text": [
      "1.2246467991473532e-16\n"
     ]
    }
   ],
   "source": [
    "import math\n",
    "x = math.pi\n",
    "y = math.sin(x)\n",
    "print(y)"
   ]
  },
  {
   "cell_type": "markdown",
   "metadata": {
    "colab_type": "text",
    "id": "r0I-pqZ61Sgf"
   },
   "source": [
    "<a id='Loops'></a>\n",
    "# V. Loops\n",
    "Loops iterate over a sequence of numbers, either a specified number of times or when a specific condition is met."
   ]
  },
  {
   "cell_type": "markdown",
   "metadata": {
    "colab_type": "text",
    "id": "AyxGDSEk1Sgg"
   },
   "source": [
    "### For loops\n",
    "For-loops run through a range of values. The syntax for a for-loop is shown below.\n",
    "\n",
    "`for` defines that this is a for for-loop.\n",
    "\n",
    "`x` is the iterator in the for-loop.\n",
    "\n",
    "`range()` is a function that controls the number of iterations. The argument is the `stop` value. \n",
    "\n",
    "Think about what the following Code Cell will generate when run. Did it do what you expected?"
   ]
  },
  {
   "cell_type": "code",
   "execution_count": 0,
   "metadata": {
    "colab": {},
    "colab_type": "code",
    "id": "tnyZhbf11Sgg",
    "outputId": "323a4497-ef8a-430f-9532-fab1013afeb7",
    "scrolled": true
   },
   "outputs": [
    {
     "name": "stdout",
     "output_type": "stream",
     "text": [
      "1\n",
      "2\n",
      "3\n",
      "4\n"
     ]
    }
   ],
   "source": [
    "for x in range(1,5):\n",
    "    print(x)"
   ]
  },
  {
   "cell_type": "markdown",
   "metadata": {
    "colab_type": "text",
    "id": "pL0dKGv81Sgi"
   },
   "source": [
    "# Wait, what? When we print the iterator, it starts at 0 and ends at 4. Many new and experienced programmers probably expected this to start at 1 and end at 5, particularly if your prior programming experience is in Matlab. However, Python is 0-indexed, which shifts everything one to the left.\n",
    "\n",
    "Think of it this way:\n",
    "<ul>\n",
    "    <li>0 $\\Rightarrow$ 0-1</li>\n",
    "    <li>1 $\\Rightarrow$ 1-2</li>\n",
    "    <li>2 $\\Rightarrow$ 2-3</li>\n",
    "    <li>3 $\\Rightarrow$ 3-4</li>\n",
    "    <li>4 $\\Rightarrow$ 4-5</li>\n",
    "</ul>\n",
    "\n",
    "As a result, `range(5)` looks at $0 \\Rightarrow 5$. Hence, when interating through the indices, it goes 0, 1, 2, 3, 4, <b>NOT</b> 1, 2, 3, 4, 5.\n",
    "\n",
    "`range()` has additional, optional arguments. When two arguments are used, the first represents `start` and the last represents `stop`."
   ]
  },
  {
   "cell_type": "code",
   "execution_count": 0,
   "metadata": {
    "colab": {},
    "colab_type": "code",
    "id": "LJSPKfW_1Sgi"
   },
   "outputs": [],
   "source": [
    "for x in range(1,5):\n",
    "    print(x)"
   ]
  },
  {
   "cell_type": "markdown",
   "metadata": {
    "colab_type": "text",
    "id": "FPF-PSW51Sgk"
   },
   "source": [
    "`range()` has a third optional argument that represents the size of the increment (which defaults to 1 when not specified). It is the third argument when present."
   ]
  },
  {
   "cell_type": "code",
   "execution_count": 0,
   "metadata": {
    "colab": {},
    "colab_type": "code",
    "id": "wKqx8emb1Sgk",
    "outputId": "3a39b4be-5c1e-43dd-f6de-a9e3db276db5",
    "scrolled": true
   },
   "outputs": [
    {
     "name": "stdout",
     "output_type": "stream",
     "text": [
      "1\n",
      "3\n"
     ]
    }
   ],
   "source": [
    "for x in range(1,5,2):\n",
    "    print(x)"
   ]
  },
  {
   "cell_type": "markdown",
   "metadata": {
    "colab_type": "text",
    "id": "QOjpeiYk1Sgm"
   },
   "source": [
    "If we want to print all of the odd numbers from 1 to 9, we can write the following for-loop. Note that due to Python indexing, we have to go over the upper value we want."
   ]
  },
  {
   "cell_type": "code",
   "execution_count": 0,
   "metadata": {
    "colab": {},
    "colab_type": "code",
    "id": "dhHKMi7_1Sgm",
    "outputId": "fb94c77f-491b-4913-a594-792e1af4cccd"
   },
   "outputs": [
    {
     "name": "stdout",
     "output_type": "stream",
     "text": [
      "1\n",
      "3\n",
      "5\n",
      "7\n",
      "9\n"
     ]
    }
   ],
   "source": [
    "for x in range(1,10,2):\n",
    "    print(x)"
   ]
  },
  {
   "cell_type": "markdown",
   "metadata": {
    "colab_type": "text",
    "id": "HVmHXsx31Sgo"
   },
   "source": [
    "Note that this upper limit must be an integer. Note the \"TypeError\" in the following code."
   ]
  },
  {
   "cell_type": "code",
   "execution_count": 0,
   "metadata": {
    "colab": {},
    "colab_type": "code",
    "id": "mDjfK0Pg1Sgo",
    "outputId": "fdde6b31-beb9-4472-c811-2a32a057bb31"
   },
   "outputs": [
    {
     "ename": "TypeError",
     "evalue": "'float' object cannot be interpreted as an integer",
     "output_type": "error",
     "traceback": [
      "\u001b[0;31m---------------------------------------------------------------------------\u001b[0m",
      "\u001b[0;31mTypeError\u001b[0m                                 Traceback (most recent call last)",
      "\u001b[0;32m<ipython-input-7-a71a471ba875>\u001b[0m in \u001b[0;36m<module>\u001b[0;34m()\u001b[0m\n\u001b[1;32m      1\u001b[0m \u001b[0;31m# This code fails\u001b[0m\u001b[0;34m\u001b[0m\u001b[0;34m\u001b[0m\u001b[0m\n\u001b[0;32m----> 2\u001b[0;31m \u001b[0;32mfor\u001b[0m \u001b[0mx\u001b[0m \u001b[0;32min\u001b[0m \u001b[0mrange\u001b[0m\u001b[0;34m(\u001b[0m\u001b[0;36m1\u001b[0m\u001b[0;34m,\u001b[0m\u001b[0;36m9.1\u001b[0m\u001b[0;34m,\u001b[0m\u001b[0;36m2\u001b[0m\u001b[0;34m)\u001b[0m\u001b[0;34m:\u001b[0m\u001b[0;34m\u001b[0m\u001b[0m\n\u001b[0m\u001b[1;32m      3\u001b[0m     \u001b[0mprint\u001b[0m\u001b[0;34m(\u001b[0m\u001b[0mx\u001b[0m\u001b[0;34m)\u001b[0m\u001b[0;34m\u001b[0m\u001b[0m\n",
      "\u001b[0;31mTypeError\u001b[0m: 'float' object cannot be interpreted as an integer"
     ]
    }
   ],
   "source": [
    "# This code fails\n",
    "for x in range(1,9.1,2):\n",
    "    print(x)"
   ]
  },
  {
   "cell_type": "markdown",
   "metadata": {
    "colab_type": "text",
    "id": "YmTWgiMw1Sgq"
   },
   "source": [
    "Now let's perform an arithmetic operation within the loop."
   ]
  },
  {
   "cell_type": "code",
   "execution_count": 0,
   "metadata": {
    "colab": {},
    "colab_type": "code",
    "id": "HVib53dy1Sgr",
    "outputId": "05d2ef1f-be0f-4176-bb2d-2a8d3ae9b309"
   },
   "outputs": [
    {
     "name": "stdout",
     "output_type": "stream",
     "text": [
      "0\n",
      "1\n",
      "4\n",
      "9\n",
      "16\n"
     ]
    }
   ],
   "source": [
    "for x in range(5):\n",
    "    y = x**2\n",
    "    print(y)"
   ]
  },
  {
   "cell_type": "markdown",
   "metadata": {
    "colab_type": "text",
    "id": "vfiInRRa1Sgs"
   },
   "source": [
    "You may have noticed that each loop includes two important features. The first line of the loop ends with a colon. Each of the subsequent lines are shifted to the right by a single tab. These tabs are not only white-space for purposes of display. The indentation is critical in the Python code, and must be consistently used throughout the code. Note the errors in the following loops:"
   ]
  },
  {
   "cell_type": "code",
   "execution_count": 0,
   "metadata": {
    "colab": {},
    "colab_type": "code",
    "id": "3Ogv13-K1Sgt",
    "outputId": "95ca1781-0de1-40cd-ffa5-54913305ff7a"
   },
   "outputs": [
    {
     "name": "stdout",
     "output_type": "stream",
     "text": [
      "0\n",
      "1\n",
      "4\n",
      "9\n",
      "16\n"
     ]
    }
   ],
   "source": [
    "# invalid syntax when colon is omitted\n",
    "for x in range(5):\n",
    "    y = x**2\n",
    "    print(y)"
   ]
  },
  {
   "cell_type": "code",
   "execution_count": 0,
   "metadata": {
    "colab": {},
    "colab_type": "code",
    "id": "O7RWfxMg1Sgu",
    "outputId": "11e359da-89d0-4c8f-ca41-a34fc7ee8cda"
   },
   "outputs": [
    {
     "name": "stdout",
     "output_type": "stream",
     "text": [
      "0\n",
      "1\n",
      "4\n",
      "9\n",
      "16\n"
     ]
    }
   ],
   "source": [
    "#Indentation error when spacing is not consistent\n",
    "for x in range(5):\n",
    "    y = x**2\n",
    "    print(y)"
   ]
  },
  {
   "cell_type": "markdown",
   "metadata": {
    "colab_type": "text",
    "id": "YpbN6Mua1Sgw"
   },
   "source": [
    "### While loops\n",
    "While defines another type of loop that stops at some condition. The format is similar to a for-loop, but action has to be taken on the iterator within the loop. "
   ]
  },
  {
   "cell_type": "code",
   "execution_count": 0,
   "metadata": {
    "colab": {},
    "colab_type": "code",
    "id": "5WJuFOmp1Sgx",
    "outputId": "ac750c5a-65ad-4426-d508-cc0c74c40045"
   },
   "outputs": [
    {
     "name": "stdout",
     "output_type": "stream",
     "text": [
      "5\n",
      "6\n",
      "7\n",
      "8\n",
      "9\n",
      "10\n"
     ]
    }
   ],
   "source": [
    "x = 5\n",
    "while x<=10:\n",
    "    print(x)\n",
    "    x = x+1"
   ]
  },
  {
   "cell_type": "markdown",
   "metadata": {
    "colab_type": "text",
    "id": "-TsVecCe1Sgz"
   },
   "source": [
    "It is easy to see that if x is not modified within the loop, then x will always be less than 10. This is referred to as <b><font color = 'red'>the dreaded \"infinite loop\"</font></b>. If you really want to try it, go right ahead, but be aware of where the \"stop button\" is. Also be sure that you saved your Jupyter Notebook, because sometimes completely closing out of the Jupyter Notebook is the only way to escape the infinite loop."
   ]
  }
 ],
 "metadata": {
  "colab": {
   "include_colab_link": true,
   "name": "Week_1_Python_Lecture.ipynb",
   "provenance": []
  },
  "kernelspec": {
   "display_name": "Python 3",
   "language": "python",
   "name": "python3"
  },
  "language_info": {
   "codemirror_mode": {
    "name": "ipython",
    "version": 3
   },
   "file_extension": ".py",
   "mimetype": "text/x-python",
   "name": "python",
   "nbconvert_exporter": "python",
   "pygments_lexer": "ipython3",
   "version": "3.8.5"
  }
 },
 "nbformat": 4,
 "nbformat_minor": 1
}
